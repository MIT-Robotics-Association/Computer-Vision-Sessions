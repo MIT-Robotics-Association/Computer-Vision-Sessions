{
  "cells": [
    {
      "cell_type": "markdown",
      "source": [
        "#Problem Statement\n",
        "\n",
        "Create a system to track the position of a ball from video."
      ],
      "metadata": {
        "id": "bX7cSS1zia08"
      },
      "id": "bX7cSS1zia08"
    },
    {
      "cell_type": "markdown",
      "source": [
        "#Importing libraries and loading data"
      ],
      "metadata": {
        "id": "Sg_AcamvDrOJ"
      },
      "id": "Sg_AcamvDrOJ"
    },
    {
      "cell_type": "code",
      "execution_count": null,
      "id": "56e88712",
      "metadata": {
        "id": "56e88712"
      },
      "outputs": [],
      "source": [
        "import cv2\n",
        "import matplotlib.pyplot as plt\n",
        "import numpy as np\n",
        "!git clone https://github.com/MIT-Robotics-Association/Computer-Vision-Sessions"
      ]
    },
    {
      "cell_type": "markdown",
      "id": "66a96726",
      "metadata": {
        "id": "66a96726"
      },
      "source": [
        "#Playing video\n",
        "\n",
        "Do not run this cell on colab. Works only when running on jupyter notebooks."
      ]
    },
    {
      "cell_type": "code",
      "execution_count": null,
      "id": "c6c56868",
      "metadata": {
        "id": "c6c56868"
      },
      "outputs": [],
      "source": [
        "cap = cv2.VideoCapture(r\"/content/Computer-Vision-Sessions/data/vid.mp4\")\n",
        "while(cap.isOpened()):\n",
        "    ret, frame = cap.read()\n",
        "    if ret == True:\n",
        "        cv2.imshow('Frame',frame)\n",
        "        cv2.waitKey(10)\n",
        "    else:\n",
        "        break\n",
        "cv2.destroyAllWindows()\n",
        "cap.release()"
      ]
    },
    {
      "cell_type": "markdown",
      "id": "41be5150",
      "metadata": {
        "id": "41be5150"
      },
      "source": [
        "#Converting video into frames\n",
        "\n",
        "Converting the video into seperate images"
      ]
    },
    {
      "cell_type": "code",
      "execution_count": null,
      "id": "6b80a9c6",
      "metadata": {
        "id": "6b80a9c6"
      },
      "outputs": [],
      "source": [
        "currentframe = 0\n",
        "cap = cv2.VideoCapture(r'/content/Computer-Vision-Sessions/data/vid.mp4')\n",
        "while(True):\n",
        "    ret,frame = cap.read()\n",
        "    if ret:\n",
        "        name = r'/content/Computer-Vision-Sessions/data/vid_img'+str(currentframe)+'.jpg'\n",
        "        print ('Creating...' + name)\n",
        "        cv2.imwrite(name, frame)\n",
        "        currentframe += 1\n",
        "    else:\n",
        "        break\n",
        "cap.release()"
      ]
    },
    {
      "cell_type": "markdown",
      "id": "61e8b350",
      "metadata": {
        "id": "61e8b350"
      },
      "source": [
        "#Finding edge points\n",
        "\n",
        "Mark the following points on the image.\n",
        "\n",
        "Hint : Refer [cv2.circle](https://www.geeksforgeeks.org/python-opencv-cv2-circle-method/)\n",
        "\n",
        "For finding the corner points : Upload a frame0 to this [site](https://www.programminghead.com/Projects/find-coordinates-of-image-online.html) and locate the corner points by moving the cursor.\n",
        "\n",
        "Expected output: [Click here](https://github.com/MIT-Robotics-Association/Computer-Vision-Sessions/blob/main/data/misc/Img1.png)\n",
        "\n"
      ]
    },
    {
      "cell_type": "code",
      "execution_count": null,
      "id": "72b29e6c",
      "metadata": {
        "id": "72b29e6c"
      },
      "outputs": [],
      "source": [
        "f= cv2.imread(r'/content/Computer-Vision-Sessions/data/vid_img/frame42.jpg')\n",
        "#Complete the below 4 lines\n",
        "image = cv2.circle(f, center=  , radius=0, color=(0, 0, 255), thickness=10) #A marked with blue on expected output\n",
        "image = cv2.circle(f, center= , radius=0, color=(0, 255, 0), thickness=10) #B marked with green on expected output\n",
        "image = cv2.circle(f, center= , radius=0, color=(255, 0, 0), thickness=10) #C marked with red on expected output\n",
        "image = cv2.circle(f, center= , radius=0, color=(255, 255, 0), thickness=10) #D marked with yellow on expected output\n",
        "plt.imshow(image)"
      ]
    },
    {
      "cell_type": "markdown",
      "id": "1c56b978",
      "metadata": {
        "id": "1c56b978"
      },
      "source": [
        "#Applying perspective transform\n",
        "\n",
        "Refer notebook 1 and apply perspective transform to the above image.\n",
        "\n",
        "Expected output : [Click Here](https://github.com/MIT-Robotics-Association/Computer-Vision-Sessions/blob/main/data/misc/Img2.png)\n"
      ]
    },
    {
      "cell_type": "code",
      "execution_count": null,
      "id": "ca4e0aa6",
      "metadata": {
        "id": "ca4e0aa6"
      },
      "outputs": [],
      "source": [
        "def prespective_transform(img):\n",
        "    #Add code to return image after performing perspective transforming\n",
        "    return transformedImg"
      ]
    },
    {
      "cell_type": "code",
      "execution_count": null,
      "id": "83bbb5a9",
      "metadata": {
        "id": "83bbb5a9"
      },
      "outputs": [],
      "source": [
        "f= cv2.imread(r'/content/Computer-Vision-Sessions/data/vid_img/frame42.jpg')\n",
        "pt_img = prespective_transform(f)\n",
        "plt.imshow(pt_img[:,:,::-1])"
      ]
    },
    {
      "cell_type": "markdown",
      "id": "2a64677c",
      "metadata": {
        "id": "2a64677c"
      },
      "source": [
        "# Converting to HSV colorspace\n",
        "\n",
        "Convert the image from RGB to HSV colorspace\n",
        "\n",
        "Hint: https://www.geeksforgeeks.org/python-opencv-cv2-cvtcolor-method/\n",
        "\n",
        "Expected Output : [Click here](https://github.com/MIT-Robotics-Association/Computer-Vision-Sessions/blob/main/data/misc/Img3.png)\n"
      ]
    },
    {
      "cell_type": "code",
      "execution_count": null,
      "id": "58d66da3",
      "metadata": {
        "id": "58d66da3"
      },
      "outputs": [],
      "source": [
        "def conv_hsv(img):\n",
        "    #Add code\n",
        "    return img"
      ]
    },
    {
      "cell_type": "code",
      "execution_count": null,
      "id": "75e3290a",
      "metadata": {
        "id": "75e3290a"
      },
      "outputs": [],
      "source": [
        "hsv_img = conv_hsv(pt_img)\n",
        "plt.imshow(hsv_img[:,:,0],cmap='gray')"
      ]
    },
    {
      "cell_type": "markdown",
      "id": "9648f364",
      "metadata": {
        "id": "9648f364"
      },
      "source": [
        "#Thresholding of 'h' component\n",
        "\n",
        "Plot the histogram for 'H' space of the image\n",
        "\n",
        "Refer notebook 2 for hints\n",
        "\n",
        "Then determine the threshold that can be used for thresholding the ball component in the image\n",
        "\n",
        "Expected output : [Click here](https://github.com/MIT-Robotics-Association/Computer-Vision-Sessions/blob/main/data/misc/Img4.png)"
      ]
    },
    {
      "cell_type": "code",
      "execution_count": null,
      "id": "517416a9",
      "metadata": {
        "id": "517416a9"
      },
      "outputs": [],
      "source": [
        "#Add code to plot histogram\n"
      ]
    },
    {
      "cell_type": "code",
      "source": [
        "t = #initialize t with the threshold determined by you\n",
        "print(\"Threshold:\",t)"
      ],
      "metadata": {
        "id": "RXFciYW2A0ax"
      },
      "id": "RXFciYW2A0ax",
      "execution_count": null,
      "outputs": []
    },
    {
      "cell_type": "markdown",
      "source": [
        "Approximate threshold = 3x5x3x2 (Solve this)\n",
        "\n",
        "#Displaying the mask\n",
        "\n",
        "Expected output : [Click here](https://github.com/MIT-Robotics-Association/Computer-Vision-Sessions/blob/main/data/misc/Img5.png)"
      ],
      "metadata": {
        "id": "cku16wPBBkE4"
      },
      "id": "cku16wPBBkE4"
    },
    {
      "cell_type": "code",
      "execution_count": null,
      "id": "b91f7a19",
      "metadata": {
        "id": "b91f7a19"
      },
      "outputs": [],
      "source": [
        "def thresh(img,t):\n",
        "    mask = img[:,:,0]<t\n",
        "    return mask"
      ]
    },
    {
      "cell_type": "code",
      "execution_count": null,
      "id": "15f46e09",
      "metadata": {
        "id": "15f46e09"
      },
      "outputs": [],
      "source": [
        "mask = thresh(hsv_img,t)\n",
        "plt.imshow(mask,cmap='gray')"
      ]
    },
    {
      "cell_type": "markdown",
      "id": "5fb3dc5f",
      "metadata": {
        "id": "5fb3dc5f"
      },
      "source": [
        "#Find centre point of ball in mask\n",
        "\n",
        "Read this code and understand contour detection"
      ]
    },
    {
      "cell_type": "code",
      "execution_count": null,
      "id": "c8c1230e",
      "metadata": {
        "id": "c8c1230e"
      },
      "outputs": [],
      "source": [
        "def centre_pt(mask):\n",
        "    mask = mask *255\n",
        "    mask = np.uint8(mask)\n",
        "    ret, thresh = cv2.threshold(mask, 50, 255, cv2.THRESH_BINARY)\n",
        "    contours, hierarchy = cv2.findContours(thresh, cv2.RETR_EXTERNAL, cv2.CHAIN_APPROX_NONE)\n",
        "    if contours == ():\n",
        "        return None, None\n",
        "    try:\n",
        "        M = cv2.moments(contours[0])\n",
        "        cX = int(M[\"m10\"] / M[\"m00\"])\n",
        "        cY = int(M[\"m01\"] / M[\"m00\"])\n",
        "    except:\n",
        "        return None, None\n",
        "    return cX,cY"
      ]
    },
    {
      "cell_type": "code",
      "execution_count": null,
      "id": "9cdd3451",
      "metadata": {
        "id": "9cdd3451",
        "outputId": "d3c6d7d3-3909-494f-88da-1ae52b248216"
      },
      "outputs": [
        {
          "data": {
            "text/plain": [
              "(285, 225)"
            ]
          },
          "execution_count": 20,
          "metadata": {},
          "output_type": "execute_result"
        }
      ],
      "source": [
        "cX,cY = centre_pt(mask)\n",
        "centre_pt(mask)"
      ]
    },
    {
      "cell_type": "markdown",
      "id": "1bded85a",
      "metadata": {
        "id": "1bded85a"
      },
      "source": [
        "#Find region of ball\n"
      ]
    },
    {
      "cell_type": "code",
      "execution_count": null,
      "id": "b8a3973d",
      "metadata": {
        "id": "b8a3973d"
      },
      "outputs": [],
      "source": [
        "def find_region(cX,cY):\n",
        "    if cX== None and cY==None:\n",
        "        return '-'\n",
        "    if cX<150 and cY<150:\n",
        "        return 1\n",
        "    elif cX<150 and cY>150:\n",
        "        return 3\n",
        "    elif cX>150 and cY<150:\n",
        "        return 2\n",
        "    else:\n",
        "        return 4"
      ]
    },
    {
      "cell_type": "code",
      "execution_count": null,
      "id": "c6049395",
      "metadata": {
        "id": "c6049395"
      },
      "outputs": [],
      "source": [
        "r = find_region(cX,cY)"
      ]
    },
    {
      "cell_type": "markdown",
      "id": "efdbeee4",
      "metadata": {
        "id": "efdbeee4"
      },
      "source": [
        "#Marking on image\n"
      ]
    },
    {
      "cell_type": "code",
      "execution_count": null,
      "id": "ee135f0e",
      "metadata": {
        "id": "ee135f0e"
      },
      "outputs": [],
      "source": [
        "def disp(img,r):\n",
        "    img = cv2.line(img, (0,0), (0,300), (255,0,0), 5)\n",
        "    img = cv2.line(img, (0,0), (300,0), (255,0,0), 5)\n",
        "    img = cv2.line(img, (0,300), (300,300), (255,0,0), 5)\n",
        "    img = cv2.line(img, (300,0), (300,300), (255,0,0), 5)\n",
        "    img = cv2.line(img, (0,150), (300,150), (255,0,0), 5)\n",
        "    img = cv2.line(img, (150,0), (150,300), (255,0,0), 5)\n",
        "    img = cv2.putText(img, str(r), (5,30), cv2.FONT_HERSHEY_SIMPLEX, 1, (0,0,255), 2, cv2.LINE_AA)\n",
        "    return img"
      ]
    },
    {
      "cell_type": "code",
      "execution_count": null,
      "id": "e6e61a5d",
      "metadata": {
        "id": "e6e61a5d"
      },
      "outputs": [],
      "source": [
        "final_img = disp(pt_img,r)\n",
        "plt.imshow(final_img[:,:,::-1])"
      ]
    },
    {
      "cell_type": "markdown",
      "id": "63fa3982",
      "metadata": {
        "id": "63fa3982"
      },
      "source": [
        "#Combining into a single function"
      ]
    },
    {
      "cell_type": "code",
      "execution_count": null,
      "id": "3b5e4fb8",
      "metadata": {
        "id": "3b5e4fb8"
      },
      "outputs": [],
      "source": [
        "def final(img):\n",
        "    try:\n",
        "        pt_img = prespective_transform(img)\n",
        "        hsv_img = conv_hsv(pt_img)\n",
        "        mask = thresh(hsv_img,t)\n",
        "        cX,cY = centre_pt(mask)\n",
        "        r = find_region(cX,cY)\n",
        "        final_img = disp(pt_img,r)\n",
        "    except:\n",
        "        return None , False\n",
        "    return final_img, True"
      ]
    },
    {
      "cell_type": "code",
      "execution_count": null,
      "id": "13945ba5",
      "metadata": {
        "id": "13945ba5"
      },
      "outputs": [],
      "source": [
        "img = cv2.imread(r'/content/Computer-Vision-Sessions/data/vid_img/frame42.jpg')\n",
        "final_img, ret = final(img)\n",
        "plt.imshow(final_img[:,:,::-1])"
      ]
    },
    {
      "cell_type": "markdown",
      "source": [
        "Try testing with different input frames"
      ],
      "metadata": {
        "id": "eFsPH1K7EeOB"
      },
      "id": "eFsPH1K7EeOB"
    },
    {
      "cell_type": "code",
      "source": [
        "img = cv2.imread(r'/content/Computer-Vision-Sessions/data/vid_img/frame55.jpg')\n",
        "final_img, ret = final(img)\n",
        "plt.imshow(final_img[:,:,::-1])"
      ],
      "metadata": {
        "id": "smJVnEyYEc9Z"
      },
      "id": "smJVnEyYEc9Z",
      "execution_count": null,
      "outputs": []
    },
    {
      "cell_type": "markdown",
      "id": "c6637539",
      "metadata": {
        "id": "c6637539"
      },
      "source": [
        "#Testing on video\n",
        "\n",
        "This cell does not work on colab"
      ]
    },
    {
      "cell_type": "code",
      "execution_count": null,
      "id": "eda172ee",
      "metadata": {
        "id": "eda172ee"
      },
      "outputs": [],
      "source": [
        "cap = cv2.VideoCapture(r'/content/Computer-Vision-Sessions/data/vid.mp4')\n",
        "while(cap.isOpened()):\n",
        "    ret, frame = cap.read()\n",
        "    frame, ret2 = final(frame)\n",
        "    if ret2==False:\n",
        "        continue\n",
        "    elif ret == True and ret2==True:\n",
        "        cv2.imshow('Frame',frame)\n",
        "        cv2.waitKey(10)\n",
        "    else:\n",
        "        break\n",
        "cv2.destroyAllWindows()\n",
        "cap.release()"
      ]
    }
  ],
  "metadata": {
    "kernelspec": {
      "display_name": "Python 3 (ipykernel)",
      "language": "python",
      "name": "python3"
    },
    "language_info": {
      "codemirror_mode": {
        "name": "ipython",
        "version": 3
      },
      "file_extension": ".py",
      "mimetype": "text/x-python",
      "name": "python",
      "nbconvert_exporter": "python",
      "pygments_lexer": "ipython3",
      "version": "3.9.12"
    },
    "colab": {
      "provenance": []
    }
  },
  "nbformat": 4,
  "nbformat_minor": 5
}