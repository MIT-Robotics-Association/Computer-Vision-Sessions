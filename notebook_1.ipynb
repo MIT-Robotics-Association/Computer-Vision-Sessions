{
 "cells": [
  {
   "cell_type": "code",
   "execution_count": null,
   "id": "a11e10bd",
   "metadata": {
    "scrolled": true
   },
   "outputs": [],
   "source": [
    "!git clone https://github.com/gokulg02/DEXBOT-CV-workshop"
   ]
  },
  {
   "cell_type": "markdown",
   "id": "3242fc6d",
   "metadata": {},
   "source": [
    "Importing Numpy library"
   ]
  },
  {
   "cell_type": "code",
   "execution_count": null,
   "id": "72fe2978",
   "metadata": {},
   "outputs": [],
   "source": [
    "import numpy as np"
   ]
  },
  {
   "cell_type": "markdown",
   "id": "b897dc6c",
   "metadata": {},
   "source": [
    "***Declaring a numpy array***"
   ]
  },
  {
   "cell_type": "code",
   "execution_count": null,
   "id": "e8525dc2",
   "metadata": {},
   "outputs": [],
   "source": [
    "a = np.array([1,2,3])\n",
    "b = np.array([[1,2,3,4], [5,6,7,8], [9,10,11,12]])\n",
    "print(type(a))"
   ]
  },
  {
   "cell_type": "code",
   "execution_count": null,
   "id": "56fab357",
   "metadata": {},
   "outputs": [],
   "source": [
    "print(\"Shape:\",a.shape)\n",
    "print(\"Array:\")\n",
    "print(a)"
   ]
  },
  {
   "cell_type": "code",
   "execution_count": null,
   "id": "4e5cf4e1",
   "metadata": {},
   "outputs": [],
   "source": [
    "print(\"Shape:\",b.shape)\n",
    "print(\"Array:\")\n",
    "print(b)"
   ]
  },
  {
   "cell_type": "markdown",
   "id": "43df3571",
   "metadata": {},
   "source": [
    "***Indexing*** \n",
    "\n",
    "*Obtaining the element 7* "
   ]
  },
  {
   "cell_type": "code",
   "execution_count": null,
   "id": "c96e6793",
   "metadata": {},
   "outputs": [],
   "source": [
    "b[1,2]"
   ]
  },
  {
   "cell_type": "markdown",
   "id": "2824a2f7",
   "metadata": {},
   "source": [
    "**Printing the array [[2,3],[6,7]] from b.**"
   ]
  },
  {
   "cell_type": "code",
   "execution_count": null,
   "id": "fd210cf6",
   "metadata": {},
   "outputs": [],
   "source": [
    "b[0:2,1:3]"
   ]
  },
  {
   "cell_type": "markdown",
   "id": "ffd66957",
   "metadata": {},
   "source": [
    "**Reshaping**\n",
    "\n",
    "*Reshaping b into array of shape (4,3).*"
   ]
  },
  {
   "cell_type": "code",
   "execution_count": null,
   "id": "ca851cdc",
   "metadata": {},
   "outputs": [],
   "source": [
    "b.reshape(4,3)"
   ]
  },
  {
   "cell_type": "markdown",
   "id": "b8f16509",
   "metadata": {},
   "source": [
    "**Efficiency of numpy arrays**"
   ]
  },
  {
   "cell_type": "code",
   "execution_count": null,
   "id": "e9b9d620",
   "metadata": {},
   "outputs": [],
   "source": [
    "import time\n",
    "x=[]\n",
    "for i in range(10000000):\n",
    "    x.append(i)\n",
    "    \n",
    "start = time.time()\n",
    "for i in range(10000000):\n",
    "    x[i] += 2\n",
    "\n",
    "print(\"Time taken:\",time.time()-start,\" s\")"
   ]
  },
  {
   "cell_type": "code",
   "execution_count": null,
   "id": "b79f5b46",
   "metadata": {},
   "outputs": [],
   "source": [
    "y = np.array(x)\n",
    "\n",
    "start = time.time()\n",
    "\n",
    "y += 2\n",
    "\n",
    "print(\"Time taken:\",time.time()-start,\" s\")"
   ]
  },
  {
   "cell_type": "markdown",
   "id": "9128b8f3",
   "metadata": {},
   "source": [
    "**Reading and displaying images usign openCV**"
   ]
  },
  {
   "cell_type": "code",
   "execution_count": null,
   "id": "58888bac",
   "metadata": {},
   "outputs": [],
   "source": [
    "from google.colab.patches import cv2_imshow\n",
    "import cv2"
   ]
  },
  {
   "cell_type": "code",
   "execution_count": null,
   "id": "b15d979e",
   "metadata": {},
   "outputs": [],
   "source": [
    "a = cv2.imread(r\"data\\lena.png\")"
   ]
  },
  {
   "cell_type": "code",
   "execution_count": null,
   "id": "1c5d03c7",
   "metadata": {},
   "outputs": [],
   "source": [
    "cv2_imshow(\"a\",a)\n",
    "cv2.waitKey(0)\n",
    "cv2.destroyAllWindows()"
   ]
  },
  {
   "cell_type": "code",
   "execution_count": null,
   "id": "854da6cf",
   "metadata": {},
   "outputs": [],
   "source": [
    "a"
   ]
  },
  {
   "cell_type": "code",
   "execution_count": null,
   "id": "8c071743",
   "metadata": {},
   "outputs": [],
   "source": [
    "type(a)"
   ]
  },
  {
   "cell_type": "code",
   "execution_count": null,
   "id": "ba7d5725",
   "metadata": {},
   "outputs": [],
   "source": [
    "a.shape"
   ]
  },
  {
   "cell_type": "markdown",
   "id": "6677fc9b",
   "metadata": {},
   "source": [
    "**Displaying image using matplotlib**"
   ]
  },
  {
   "cell_type": "code",
   "execution_count": null,
   "id": "89fcba94",
   "metadata": {},
   "outputs": [],
   "source": [
    "import matplotlib.pyplot as plt"
   ]
  },
  {
   "cell_type": "code",
   "execution_count": null,
   "id": "26e8fbe9",
   "metadata": {},
   "outputs": [],
   "source": [
    "plt.imshow(a[:,:,::-1])"
   ]
  },
  {
   "cell_type": "markdown",
   "id": "c3d811c4",
   "metadata": {},
   "source": [
    "**RGB Representation**"
   ]
  },
  {
   "cell_type": "code",
   "execution_count": null,
   "id": "ce00eb15",
   "metadata": {},
   "outputs": [],
   "source": [
    "img = cv2.imread(r\"data\\rubik.png\")\n",
    "plt.imshow(img[:,:,::-1])"
   ]
  },
  {
   "cell_type": "code",
   "execution_count": null,
   "id": "137edab7",
   "metadata": {},
   "outputs": [],
   "source": [
    "blue_img = np.zeros(img.shape)\n",
    "blue_img[:,:,0] = img[:,:,0]\n",
    "f, ax = plt.subplots(2,figsize=(10, 10))\n",
    "ax[0].imshow(blue_img[:,:,::-1])\n",
    "ax[1].imshow(img[:,:,::-1])"
   ]
  },
  {
   "cell_type": "code",
   "execution_count": null,
   "id": "0394d9f1",
   "metadata": {},
   "outputs": [],
   "source": [
    "green_img = np.zeros(img.shape)\n",
    "green_img[:,:,1] = img[:,:,1]\n",
    "f, ax = plt.subplots(2,figsize=(10, 10))\n",
    "ax[0].imshow(green_img[:,:,::-1])\n",
    "ax[1].imshow(img[:,:,::-1])"
   ]
  },
  {
   "cell_type": "code",
   "execution_count": null,
   "id": "e5c185d8",
   "metadata": {},
   "outputs": [],
   "source": [
    "red_img = np.zeros(img.shape)\n",
    "red_img[:,:,2] = img[:,:,2]\n",
    "f, ax = plt.subplots(2,figsize=(10, 10))\n",
    "ax[0].imshow(red_img[:,:,::-1])\n",
    "ax[1].imshow(img[:,:,::-1])"
   ]
  },
  {
   "cell_type": "markdown",
   "id": "2a3206af",
   "metadata": {},
   "source": [
    "**HSV color space**"
   ]
  },
  {
   "cell_type": "code",
   "execution_count": null,
   "id": "9c34e3cf",
   "metadata": {},
   "outputs": [],
   "source": [
    "hsv = cv2.cvtColor(img, cv2.COLOR_BGR2HSV)\n",
    "f, ax = plt.subplots(2,2,figsize=(10, 10))\n",
    "ax[0,0].imshow(img[:,:,::-1])\n",
    "h, s, v = cv2.split(hsv)\n",
    "ax[0,1].imshow(h,cmap='gray')\n",
    "ax[1,0].imshow(s,cmap='gray')\n",
    "ax[1,1].imshow(v,cmap='gray')\n",
    "ax[0, 0].set_title(\"Original\")\n",
    "ax[0, 1].set_title(\"Hue\")\n",
    "ax[1, 0].set_title(\"Saturation\")\n",
    "ax[1, 1].set_title(\"Value\")"
   ]
  },
  {
   "cell_type": "markdown",
   "id": "4fceb635",
   "metadata": {},
   "source": [
    "**Convert RGB --> Grayscale**"
   ]
  },
  {
   "cell_type": "code",
   "execution_count": null,
   "id": "4cd1d281",
   "metadata": {},
   "outputs": [],
   "source": [
    "img=cv2.imread('data/butterfly.jpg')\n",
    "plt.imshow(img[:,:,::-1])"
   ]
  },
  {
   "cell_type": "code",
   "execution_count": null,
   "id": "1a333543",
   "metadata": {},
   "outputs": [],
   "source": [
    "grayImg = cv2.cvtColor(img, cv2.COLOR_BGR2GRAY)\n",
    "plt.imshow(grayImg, cmap='gray')"
   ]
  },
  {
   "cell_type": "code",
   "execution_count": null,
   "id": "007a019e",
   "metadata": {},
   "outputs": [],
   "source": [
    "rgb = cv2.cvtColor(grayImg,cv2.COLOR_GRAY2RGB)\n",
    "cv2.imshow(\"RGB\", rgb)\n",
    "cv2.waitKey(0)\n",
    "cv2.destroyAllWindows()"
   ]
  },
  {
   "cell_type": "markdown",
   "id": "e703d38c",
   "metadata": {},
   "source": [
    "**Brightening and Darkening**"
   ]
  },
  {
   "cell_type": "code",
   "execution_count": null,
   "id": "2c7008ea",
   "metadata": {},
   "outputs": [],
   "source": [
    "img = cv2.imread('data/robin.jpeg')\n",
    "plt.imshow(img[:,:,::-1])"
   ]
  },
  {
   "cell_type": "code",
   "execution_count": null,
   "id": "9628c1ef",
   "metadata": {},
   "outputs": [],
   "source": [
    "illum = np.ones(img.shape, dtype=\"uint8\") * 75\n",
    "brightenedImg=cv2.add(img,illum)\n",
    "plt.imshow(brightenedImg[:,:,::-1])"
   ]
  },
  {
   "cell_type": "code",
   "execution_count": null,
   "id": "1eb0f5f4",
   "metadata": {},
   "outputs": [],
   "source": [
    "darkenedImg=cv2.subtract(img, illum)\n",
    "plt.imshow(darkenedImg[:,:,::-1])"
   ]
  },
  {
   "cell_type": "markdown",
   "id": "a1342919",
   "metadata": {},
   "source": [
    "**Translation**"
   ]
  },
  {
   "cell_type": "code",
   "execution_count": null,
   "id": "da0d077c",
   "metadata": {},
   "outputs": [],
   "source": [
    "img = cv2.imread('data/gull.jpg') \n",
    "height,width = img.shape[:2]\n",
    "print(img.shape[:2])\n",
    "plt.imshow(img[:,:,::-1])"
   ]
  },
  {
   "cell_type": "code",
   "execution_count": null,
   "id": "08e3f776",
   "metadata": {},
   "outputs": [],
   "source": [
    "newHeight, newWidth = height/4, width/4\n",
    "translationMatrix = np.float32([[1,0,newWidth],[0,1,newHeight]])\n",
    "translatedImg=cv2.warpAffine(img,translationMatrix,(width,height))\n",
    "print(translationMatrix)\n",
    "plt.imshow(translatedImg[:,:,::-1])"
   ]
  },
  {
   "cell_type": "markdown",
   "id": "54b38761",
   "metadata": {},
   "source": [
    "**Rotation**"
   ]
  },
  {
   "cell_type": "code",
   "execution_count": null,
   "id": "5bd15dd0",
   "metadata": {},
   "outputs": [],
   "source": [
    "rotationMatrix=cv2.getRotationMatrix2D((width/2, height/2),180,1)\n",
    "rotatedImg=cv2.warpAffine(img,rotationMatrix,(width,height))\n",
    "print(rotationMatrix)\n",
    "plt.imshow(rotatedImg[:,:,::-1])"
   ]
  },
  {
   "cell_type": "markdown",
   "id": "ee86d749",
   "metadata": {},
   "source": [
    "**Interpolation**"
   ]
  },
  {
   "cell_type": "code",
   "execution_count": null,
   "id": "583398bd",
   "metadata": {},
   "outputs": [],
   "source": [
    "plt.imshow(img[:,:,::-1])\n",
    "print(img.shape)"
   ]
  },
  {
   "cell_type": "code",
   "execution_count": null,
   "id": "1f96b709",
   "metadata": {},
   "outputs": [],
   "source": [
    "downScaledImg = cv2.resize(img,None,fx = 0.75,fy = 0.75)\n",
    "plt.imshow(downScaledImg[:,:,::-1])\n",
    "print(downScaledImg.shape)"
   ]
  },
  {
   "cell_type": "code",
   "execution_count": null,
   "id": "51b745da",
   "metadata": {},
   "outputs": [],
   "source": [
    "upScaledImg = cv2.resize(img,None,fx = 2,fy = 2,interpolation = cv2.INTER_CUBIC)\n",
    "plt.imshow(upScaledImg[:,:,::-1])\n",
    "print(upScaledImg.shape)"
   ]
  },
  {
   "cell_type": "code",
   "execution_count": null,
   "id": "8ecea4e8",
   "metadata": {},
   "outputs": [],
   "source": [
    "resizedImg = cv2.resize(img,(200,300),interpolation = cv2.INTER_AREA)\n",
    "plt.imshow(resizedImg[:,:,::-1])\n",
    "print(resizedImg.shape)"
   ]
  },
  {
   "cell_type": "markdown",
   "id": "9ac0df0a",
   "metadata": {},
   "source": [
    "**Cropping**"
   ]
  },
  {
   "cell_type": "code",
   "execution_count": null,
   "id": "a38d0a98",
   "metadata": {},
   "outputs": [],
   "source": [
    "croppedImg = img[200:600, 1200:1500]\n",
    "plt.imshow(croppedImg[:,:,::-1])\n",
    "print(croppedImg.shape)"
   ]
  },
  {
   "cell_type": "markdown",
   "id": "eac7b12f",
   "metadata": {},
   "source": [
    "**Perspective Transform**"
   ]
  },
  {
   "cell_type": "code",
   "execution_count": null,
   "id": "0bda39c3",
   "metadata": {},
   "outputs": [],
   "source": [
    "img = cv2.imread('data/thresh.png')\n",
    "rows,cols,ch = img.shape\n",
    "print(rows, cols, ch)\n",
    "plt.imshow(img[:,:,::-1])"
   ]
  },
  {
   "cell_type": "code",
   "execution_count": null,
   "id": "3db681c9",
   "metadata": {},
   "outputs": [],
   "source": [
    "source = np.float32([[50,55],[356,45],[25,352],[376,355]])\n",
    "destination = np.float32([[0,0],[300,0],[0,300],[300,300]])\n",
    "transformMatrix = cv2.getPerspectiveTransform(source, destination)\n",
    "transformedImg = cv2.warpPerspective(img,transformMatrix,(300,300))\n",
    "plt.imshow(transformedImg[:,:,::-1])"
   ]
  },
  {
   "cell_type": "code",
   "execution_count": null,
   "id": "db06b48f",
   "metadata": {},
   "outputs": [],
   "source": []
  }
 ],
 "metadata": {
  "kernelspec": {
   "display_name": "Python 3 (ipykernel)",
   "language": "python",
   "name": "python3"
  },
  "language_info": {
   "codemirror_mode": {
    "name": "ipython",
    "version": 3
   },
   "file_extension": ".py",
   "mimetype": "text/x-python",
   "name": "python",
   "nbconvert_exporter": "python",
   "pygments_lexer": "ipython3",
   "version": "3.10.9"
  }
 },
 "nbformat": 4,
 "nbformat_minor": 5
}
