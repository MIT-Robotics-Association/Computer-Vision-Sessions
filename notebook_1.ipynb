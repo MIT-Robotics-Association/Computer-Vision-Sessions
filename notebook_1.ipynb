{
 "cells": [
  {
   "cell_type": "code",
   "execution_count": null,
   "id": "a11e10bd",
   "metadata": {
    "scrolled": true
   },
   "outputs": [],
   "source": [
    "!git clone https://github.com/MIT-Robotics-Association/Computer-Vision-Sessions"
   ]
  },
  {
   "cell_type": "markdown",
   "id": "fee047db",
   "metadata": {},
   "source": [
    "**Importing Numpy library**"
   ]
  },
  {
   "cell_type": "code",
   "execution_count": null,
   "id": "e454e8d1",
   "metadata": {},
   "outputs": [],
   "source": [
    "import numpy as np"
   ]
  },
  {
   "cell_type": "markdown",
   "id": "75b63f68",
   "metadata": {},
   "source": [
    "***Declaring a numpy array***"
   ]
  },
  {
   "cell_type": "code",
   "execution_count": null,
   "id": "b0e76bfc",
   "metadata": {},
   "outputs": [],
   "source": [
    "a = np.array([1,2,3])\n",
    "b = np.array([[1,2,3,4], [5,6,7,8], [9,10,11,12]])\n",
    "print(type(a))"
   ]
  },
  {
   "cell_type": "code",
   "execution_count": null,
   "id": "6199c486",
   "metadata": {},
   "outputs": [],
   "source": [
    "print(\"Shape:\",a.shape)\n",
    "print(\"Array:\")\n",
    "print(a)"
   ]
  },
  {
   "cell_type": "code",
   "execution_count": null,
   "id": "15fec28b",
   "metadata": {},
   "outputs": [],
   "source": [
    "print(\"Shape:\",b.shape)\n",
    "print(\"Array:\")\n",
    "print(b)"
   ]
  },
  {
   "cell_type": "markdown",
   "id": "808753b5",
   "metadata": {},
   "source": [
    "***Indexing*** \n",
    "\n",
    "*Obtaining the element 7* "
   ]
  },
  {
   "cell_type": "code",
   "execution_count": null,
   "id": "cc3a6681",
   "metadata": {},
   "outputs": [],
   "source": [
    "b[1,2]"
   ]
  },
  {
   "cell_type": "markdown",
   "id": "4450fb18",
   "metadata": {},
   "source": [
    "**Printing the array [[2,3],[6,7]] from b.**"
   ]
  },
  {
   "cell_type": "code",
   "execution_count": null,
   "id": "fce27f85",
   "metadata": {},
   "outputs": [],
   "source": [
    "b[0:2,1:3]"
   ]
  },
  {
   "cell_type": "markdown",
   "id": "b16dcd83",
   "metadata": {},
   "source": [
    "**Reshaping**\n",
    "\n",
    "*Reshaping b into array of shape (4,3).*"
   ]
  },
  {
   "cell_type": "code",
   "execution_count": null,
   "id": "c4b68884",
   "metadata": {},
   "outputs": [],
   "source": [
    "b.reshape(4,3)"
   ]
  },
  {
   "cell_type": "markdown",
   "id": "535fe4ea",
   "metadata": {},
   "source": [
    "**Efficiency of numpy arrays**"
   ]
  },
  {
   "cell_type": "code",
   "execution_count": null,
   "id": "29f30985",
   "metadata": {},
   "outputs": [],
   "source": [
    "import time\n",
    "x=[]\n",
    "for i in range(10000000):\n",
    "    x.append(i)\n",
    "    \n",
    "start = time.time()\n",
    "for i in range(10000000):\n",
    "    x[i] += 2\n",
    "\n",
    "print(\"Time taken:\",time.time()-start,\" s\")"
   ]
  },
  {
   "cell_type": "code",
   "execution_count": null,
   "id": "9bdbca80",
   "metadata": {},
   "outputs": [],
   "source": [
    "y = np.array(x)\n",
    "\n",
    "start = time.time()\n",
    "\n",
    "y += 2\n",
    "\n",
    "print(\"Time taken:\",time.time()-start,\" s\")"
   ]
  },
  {
   "cell_type": "markdown",
   "id": "e9c9a9ad",
   "metadata": {},
   "source": [
    "**Reading and displaying images usign openCV**"
   ]
  },
  {
   "cell_type": "code",
   "execution_count": null,
   "id": "c5c75b94",
   "metadata": {},
   "outputs": [],
   "source": [
    "from google.colab.patches import cv2_imshow\n",
    "import cv2"
   ]
  },
  {
   "cell_type": "code",
   "execution_count": null,
   "id": "f2e362fd",
   "metadata": {},
   "outputs": [],
   "source": [
    "a = cv2.imread(r\"/content/Computer-Vision-Sessions/data/lena.png\")"
   ]
  },
  {
   "cell_type": "code",
   "execution_count": null,
   "id": "bba4138d",
   "metadata": {},
   "outputs": [],
   "source": [
    "cv2_imshow(\"a\",a)\n",
    "cv2.waitKey(0)\n",
    "cv2.destroyAllWindows()"
   ]
  },
  {
   "cell_type": "code",
   "execution_count": null,
   "id": "6d051ce4",
   "metadata": {},
   "outputs": [],
   "source": [
    "a"
   ]
  },
  {
   "cell_type": "code",
   "execution_count": null,
   "id": "9e6eb2db",
   "metadata": {},
   "outputs": [],
   "source": [
    "type(a)"
   ]
  },
  {
   "cell_type": "code",
   "execution_count": null,
   "id": "811730fc",
   "metadata": {},
   "outputs": [],
   "source": [
    "a.shape"
   ]
  },
  {
   "cell_type": "markdown",
   "id": "415851d3",
   "metadata": {},
   "source": [
    "**Displaying image using matplotlib**"
   ]
  },
  {
   "cell_type": "code",
   "execution_count": null,
   "id": "96b2b8ca",
   "metadata": {},
   "outputs": [],
   "source": [
    "import matplotlib.pyplot as plt"
   ]
  },
  {
   "cell_type": "code",
   "execution_count": null,
   "id": "21a96201",
   "metadata": {},
   "outputs": [],
   "source": [
    "plt.imshow(a[:,:,::-1])"
   ]
  },
  {
   "cell_type": "markdown",
   "id": "bb43a9ba",
   "metadata": {},
   "source": [
    "**RGB Representation**"
   ]
  },
  {
   "cell_type": "code",
   "execution_count": null,
   "id": "f7393acc",
   "metadata": {},
   "outputs": [],
   "source": [
    "img = cv2.imread(r\"/content/Computer-Vision-Sessions/data/rubik.png\")\n",
    "plt.imshow(img[:,:,::-1])"
   ]
  },
  {
   "cell_type": "code",
   "execution_count": null,
   "id": "684cb1ca",
   "metadata": {},
   "outputs": [],
   "source": [
    "blue_img = np.zeros(img.shape)\n",
    "blue_img[:,:,0] = img[:,:,0]\n",
    "f, ax = plt.subplots(2,figsize=(10, 10))\n",
    "ax[0].imshow(blue_img[:,:,::-1])\n",
    "ax[1].imshow(img[:,:,::-1])"
   ]
  },
  {
   "cell_type": "code",
   "execution_count": null,
   "id": "aa3b7fa7",
   "metadata": {},
   "outputs": [],
   "source": [
    "green_img = np.zeros(img.shape)\n",
    "green_img[:,:,1] = img[:,:,1]\n",
    "f, ax = plt.subplots(2,figsize=(10, 10))\n",
    "ax[0].imshow(green_img[:,:,::-1])\n",
    "ax[1].imshow(img[:,:,::-1])"
   ]
  },
  {
   "cell_type": "code",
   "execution_count": null,
   "id": "f827cbde",
   "metadata": {},
   "outputs": [],
   "source": [
    "red_img = np.zeros(img.shape)\n",
    "red_img[:,:,2] = img[:,:,2]\n",
    "f, ax = plt.subplots(2,figsize=(10, 10))\n",
    "ax[0].imshow(red_img[:,:,::-1])\n",
    "ax[1].imshow(img[:,:,::-1])"
   ]
  },
  {
   "cell_type": "markdown",
   "id": "edf896a0",
   "metadata": {},
   "source": [
    "**HSV color space**"
   ]
  },
  {
   "cell_type": "code",
   "execution_count": null,
   "id": "bc8be245",
   "metadata": {},
   "outputs": [],
   "source": [
    "hsv = cv2.cvtColor(img, cv2.COLOR_BGR2HSV)\n",
    "f, ax = plt.subplots(2,2,figsize=(10, 10))\n",
    "ax[0,0].imshow(img[:,:,::-1])\n",
    "h, s, v = cv2.split(hsv)\n",
    "ax[0,1].imshow(h,cmap='gray')\n",
    "ax[1,0].imshow(s,cmap='gray')\n",
    "ax[1,1].imshow(v,cmap='gray')\n",
    "ax[0, 0].set_title(\"Original\")\n",
    "ax[0, 1].set_title(\"Hue\")\n",
    "ax[1, 0].set_title(\"Saturation\")\n",
    "ax[1, 1].set_title(\"Value\")"
   ]
  },
  {
   "cell_type": "markdown",
   "id": "68b534e0",
   "metadata": {},
   "source": [
    "**Convert RGB --> Grayscale**"
   ]
  },
  {
   "cell_type": "code",
   "execution_count": null,
   "id": "f9b7e37b",
   "metadata": {},
   "outputs": [],
   "source": [
    "img=cv2.imread('/content/Computer-Vision-Sessions/data/butterfly.jpg')\n",
    "plt.imshow(img[:,:,::-1])"
   ]
  },
  {
   "cell_type": "code",
   "execution_count": null,
   "id": "1be9645f",
   "metadata": {},
   "outputs": [],
   "source": [
    "grayImg = cv2.cvtColor(img, cv2.COLOR_BGR2GRAY)\n",
    "plt.imshow(grayImg, cmap='gray')"
   ]
  },
  {
   "cell_type": "code",
   "execution_count": null,
   "id": "d8a30454",
   "metadata": {},
   "outputs": [],
   "source": [
    "rgb = cv2.cvtColor(grayImg,cv2.COLOR_GRAY2RGB)\n",
    "cv2.imshow(\"RGB\", rgb)\n",
    "cv2.waitKey(0)\n",
    "cv2.destroyAllWindows()"
   ]
  },
  {
   "cell_type": "markdown",
   "id": "ca072df7",
   "metadata": {},
   "source": [
    "**Brightening and Darkening**"
   ]
  },
  {
   "cell_type": "code",
   "execution_count": null,
   "id": "b4a2e97f",
   "metadata": {},
   "outputs": [],
   "source": [
    "img = cv2.imread('/content/Computer-Vision-Sessions/data/robin.jpeg')\n",
    "plt.imshow(img[:,:,::-1])"
   ]
  },
  {
   "cell_type": "code",
   "execution_count": null,
   "id": "0583bdfe",
   "metadata": {},
   "outputs": [],
   "source": [
    "illum = np.ones(img.shape, dtype=\"uint8\") * 75\n",
    "brightenedImg=cv2.add(img,illum)\n",
    "plt.imshow(brightenedImg[:,:,::-1])"
   ]
  },
  {
   "cell_type": "code",
   "execution_count": null,
   "id": "245ca204",
   "metadata": {},
   "outputs": [],
   "source": [
    "darkenedImg=cv2.subtract(img, illum)\n",
    "plt.imshow(darkenedImg[:,:,::-1])"
   ]
  },
  {
   "cell_type": "markdown",
   "id": "c1b0a674",
   "metadata": {},
   "source": [
    "**Translation**"
   ]
  },
  {
   "cell_type": "code",
   "execution_count": null,
   "id": "64f78a8f",
   "metadata": {},
   "outputs": [],
   "source": [
    "img = cv2.imread(r'/content/Computer-Vision-Sessions/data/gull.jpg') \n",
    "height,width = img.shape[:2]\n",
    "print(img.shape[:2])\n",
    "plt.imshow(img[:,:,::-1])"
   ]
  },
  {
   "cell_type": "code",
   "execution_count": null,
   "id": "370e827d",
   "metadata": {},
   "outputs": [],
   "source": [
    "newHeight, newWidth = height/4, width/4\n",
    "translationMatrix = np.float32([[1,0,newWidth],[0,1,newHeight]])\n",
    "translatedImg=cv2.warpAffine(img,translationMatrix,(width,height))\n",
    "print(translationMatrix)\n",
    "plt.imshow(translatedImg[:,:,::-1])"
   ]
  },
  {
   "cell_type": "markdown",
   "id": "afdabf3a",
   "metadata": {},
   "source": [
    "**Rotation**"
   ]
  },
  {
   "cell_type": "code",
   "execution_count": null,
   "id": "20bc2950",
   "metadata": {},
   "outputs": [],
   "source": [
    "rotationMatrix=cv2.getRotationMatrix2D((width/2, height/2),180,1)\n",
    "rotatedImg=cv2.warpAffine(img,rotationMatrix,(width,height))\n",
    "print(rotationMatrix)\n",
    "plt.imshow(rotatedImg[:,:,::-1])"
   ]
  },
  {
   "cell_type": "markdown",
   "id": "cfa08dd1",
   "metadata": {},
   "source": [
    "**Interpolation**"
   ]
  },
  {
   "cell_type": "code",
   "execution_count": null,
   "id": "159beb50",
   "metadata": {},
   "outputs": [],
   "source": [
    "plt.imshow(img[:,:,::-1])\n",
    "print(img.shape)"
   ]
  },
  {
   "cell_type": "code",
   "execution_count": null,
   "id": "1ea094b5",
   "metadata": {},
   "outputs": [],
   "source": [
    "downScaledImg = cv2.resize(img,None,fx = 0.75,fy = 0.75)\n",
    "plt.imshow(downScaledImg[:,:,::-1])\n",
    "print(downScaledImg.shape)"
   ]
  },
  {
   "cell_type": "code",
   "execution_count": null,
   "id": "d15ca3c1",
   "metadata": {},
   "outputs": [],
   "source": [
    "upScaledImg = cv2.resize(img,None,fx = 2,fy = 2,interpolation = cv2.INTER_CUBIC)\n",
    "plt.imshow(upScaledImg[:,:,::-1])\n",
    "print(upScaledImg.shape)"
   ]
  },
  {
   "cell_type": "code",
   "execution_count": null,
   "id": "a1155e5c",
   "metadata": {},
   "outputs": [],
   "source": [
    "resizedImg = cv2.resize(img,(200,300),interpolation = cv2.INTER_AREA)\n",
    "plt.imshow(resizedImg[:,:,::-1])\n",
    "print(resizedImg.shape)"
   ]
  },
  {
   "cell_type": "markdown",
   "id": "d966aa39",
   "metadata": {},
   "source": [
    "**Cropping**"
   ]
  },
  {
   "cell_type": "code",
   "execution_count": null,
   "id": "aa4fb3df",
   "metadata": {},
   "outputs": [],
   "source": [
    "croppedImg = img[200:600, 1200:1500]\n",
    "plt.imshow(croppedImg[:,:,::-1])\n",
    "print(croppedImg.shape)"
   ]
  },
  {
   "cell_type": "markdown",
   "id": "9fe69780",
   "metadata": {},
   "source": [
    "**Perspective Transform**"
   ]
  },
  {
   "cell_type": "code",
   "execution_count": null,
   "id": "b44fa8eb",
   "metadata": {},
   "outputs": [],
   "source": [
    "img = cv2.imread(r'/content/Computer-Vision-Sessions/data/thresh.png')\n",
    "rows,cols,ch = img.shape\n",
    "print(rows, cols, ch)\n",
    "plt.imshow(img[:,:,::-1])"
   ]
  },
  {
   "cell_type": "code",
   "execution_count": null,
   "id": "b54f4f20",
   "metadata": {},
   "outputs": [],
   "source": [
    "source = np.float32([[50,55],[356,45],[25,352],[376,355]])\n",
    "destination = np.float32([[0,0],[300,0],[0,300],[300,300]])\n",
    "transformMatrix = cv2.getPerspectiveTransform(source, destination)\n",
    "transformedImg = cv2.warpPerspective(img,transformMatrix,(300,300))\n",
    "plt.imshow(transformedImg[:,:,::-1])"
   ]
  },
  {
   "cell_type": "code",
   "execution_count": null,
   "id": "43b9533d",
   "metadata": {},
   "outputs": [],
   "source": []
  }
 ],
 "metadata": {
  "kernelspec": {
   "display_name": "Python 3 (ipykernel)",
   "language": "python",
   "name": "python3"
  },
  "language_info": {
   "codemirror_mode": {
    "name": "ipython",
    "version": 3
   },
   "file_extension": ".py",
   "mimetype": "text/x-python",
   "name": "python",
   "nbconvert_exporter": "python",
   "pygments_lexer": "ipython3",
   "version": "3.10.9"
  }
 },
 "nbformat": 4,
 "nbformat_minor": 5
}
