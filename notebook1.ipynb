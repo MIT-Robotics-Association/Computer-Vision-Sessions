{
 "cells": [
  {
   "cell_type": "code",
   "execution_count": 1,
   "id": "a11e10bd",
   "metadata": {
    "scrolled": true
   },
   "outputs": [
    {
     "name": "stderr",
     "output_type": "stream",
     "text": [
      "fatal: destination path 'DEXBOT-CV-workshop' already exists and is not an empty directory.\n"
     ]
    }
   ],
   "source": [
    "!git clone https://github.com/gokulg02/DEXBOT-CV-workshop"
   ]
  },
  {
   "cell_type": "markdown",
   "id": "6550ce50",
   "metadata": {},
   "source": [
    "Importing Numpy library"
   ]
  },
  {
   "cell_type": "code",
   "execution_count": 2,
   "id": "12b2e8b9",
   "metadata": {},
   "outputs": [],
   "source": [
    "import numpy as np"
   ]
  },
  {
   "cell_type": "markdown",
   "id": "7aedb740",
   "metadata": {},
   "source": [
    "***Declaring a numpy array***"
   ]
  },
  {
   "cell_type": "code",
   "execution_count": 3,
   "id": "291819ff",
   "metadata": {},
   "outputs": [
    {
     "name": "stdout",
     "output_type": "stream",
     "text": [
      "<class 'numpy.ndarray'>\n"
     ]
    }
   ],
   "source": [
    "a = np.array([1,2,3])\n",
    "b = np.array([[1,2,3,4], [5,6,7,8], [9,10,11,12]])\n",
    "print(type(a))"
   ]
  },
  {
   "cell_type": "code",
   "execution_count": 4,
   "id": "4873dd7c",
   "metadata": {},
   "outputs": [
    {
     "name": "stdout",
     "output_type": "stream",
     "text": [
      "Shape: (3,)\n",
      "Array:\n",
      "[1 2 3]\n"
     ]
    }
   ],
   "source": [
    "print(\"Shape:\",a.shape)\n",
    "print(\"Array:\")\n",
    "print(a)"
   ]
  },
  {
   "cell_type": "code",
   "execution_count": 5,
   "id": "42e5c253",
   "metadata": {},
   "outputs": [
    {
     "name": "stdout",
     "output_type": "stream",
     "text": [
      "Shape: (3, 4)\n",
      "Array:\n",
      "[[ 1  2  3  4]\n",
      " [ 5  6  7  8]\n",
      " [ 9 10 11 12]]\n"
     ]
    }
   ],
   "source": [
    "print(\"Shape:\",b.shape)\n",
    "print(\"Array:\")\n",
    "print(b)"
   ]
  },
  {
   "cell_type": "markdown",
   "id": "5070ff66",
   "metadata": {},
   "source": [
    "***Indexing*** \n",
    "\n",
    "*Obtaining the element 7* "
   ]
  },
  {
   "cell_type": "code",
   "execution_count": 6,
   "id": "5e9ff6f4",
   "metadata": {},
   "outputs": [
    {
     "data": {
      "text/plain": [
       "7"
      ]
     },
     "execution_count": 6,
     "metadata": {},
     "output_type": "execute_result"
    }
   ],
   "source": [
    "b[1,2]"
   ]
  },
  {
   "cell_type": "markdown",
   "id": "755dab92",
   "metadata": {},
   "source": [
    "**Printing the array [[2,3],[6,7]] from b.**"
   ]
  },
  {
   "cell_type": "code",
   "execution_count": 7,
   "id": "b9dc3e73",
   "metadata": {},
   "outputs": [
    {
     "data": {
      "text/plain": [
       "array([[2, 3],\n",
       "       [6, 7]])"
      ]
     },
     "execution_count": 7,
     "metadata": {},
     "output_type": "execute_result"
    }
   ],
   "source": [
    "b[0:2,1:3]"
   ]
  },
  {
   "cell_type": "markdown",
   "id": "d4e484a2",
   "metadata": {},
   "source": [
    "**Reshaping**\n",
    "\n",
    "*Reshaping b into array of shape (4,3).*"
   ]
  },
  {
   "cell_type": "code",
   "execution_count": 8,
   "id": "8c9807f0",
   "metadata": {},
   "outputs": [
    {
     "data": {
      "text/plain": [
       "array([[ 1,  2,  3],\n",
       "       [ 4,  5,  6],\n",
       "       [ 7,  8,  9],\n",
       "       [10, 11, 12]])"
      ]
     },
     "execution_count": 8,
     "metadata": {},
     "output_type": "execute_result"
    }
   ],
   "source": [
    "b.reshape(4,3)"
   ]
  },
  {
   "cell_type": "markdown",
   "id": "a240ca19",
   "metadata": {},
   "source": [
    "**Efficiency of numpy arrays**"
   ]
  },
  {
   "cell_type": "code",
   "execution_count": 9,
   "id": "c926f36d",
   "metadata": {},
   "outputs": [
    {
     "name": "stdout",
     "output_type": "stream",
     "text": [
      "Time taken: 1.478792667388916  s\n"
     ]
    }
   ],
   "source": [
    "import time\n",
    "x=[]\n",
    "for i in range(10000000):\n",
    "    x.append(i)\n",
    "    \n",
    "start = time.time()\n",
    "for i in range(10000000):\n",
    "    x[i] += 2\n",
    "\n",
    "print(\"Time taken:\",time.time()-start,\" s\")"
   ]
  },
  {
   "cell_type": "code",
   "execution_count": 10,
   "id": "22e92bb5",
   "metadata": {},
   "outputs": [
    {
     "name": "stdout",
     "output_type": "stream",
     "text": [
      "Time taken: 0.0  s\n"
     ]
    }
   ],
   "source": [
    "y = np.array(x)\n",
    "\n",
    "start = time.time()\n",
    "\n",
    "y += 2\n",
    "\n",
    "print(\"Time taken:\",time.time()-start,\" s\")"
   ]
  },
  {
   "cell_type": "markdown",
   "id": "54ecfa4f",
   "metadata": {},
   "source": [
    "**Reading and displaying images usign openCV**"
   ]
  },
  {
   "cell_type": "code",
   "execution_count": 11,
   "id": "a4260690",
   "metadata": {},
   "outputs": [],
   "source": [
    "import cv2"
   ]
  },
  {
   "cell_type": "code",
   "execution_count": 16,
   "id": "ea7a31ce",
   "metadata": {},
   "outputs": [],
   "source": [
    "a = cv2.imread(r\"data\\lena.png\")"
   ]
  },
  {
   "cell_type": "code",
   "execution_count": 13,
   "id": "dfb1e191",
   "metadata": {},
   "outputs": [
    {
     "ename": "error",
     "evalue": "OpenCV(4.7.0) D:\\a\\opencv-python\\opencv-python\\opencv\\modules\\highgui\\src\\window.cpp:971: error: (-215:Assertion failed) size.width>0 && size.height>0 in function 'cv::imshow'\n",
     "output_type": "error",
     "traceback": [
      "\u001b[1;31m---------------------------------------------------------------------------\u001b[0m",
      "\u001b[1;31merror\u001b[0m                                     Traceback (most recent call last)",
      "Cell \u001b[1;32mIn[13], line 1\u001b[0m\n\u001b[1;32m----> 1\u001b[0m \u001b[43mcv2\u001b[49m\u001b[38;5;241;43m.\u001b[39;49m\u001b[43mimshow\u001b[49m\u001b[43m(\u001b[49m\u001b[38;5;124;43m\"\u001b[39;49m\u001b[38;5;124;43ma\u001b[39;49m\u001b[38;5;124;43m\"\u001b[39;49m\u001b[43m,\u001b[49m\u001b[43ma\u001b[49m\u001b[43m)\u001b[49m\n\u001b[0;32m      2\u001b[0m cv2\u001b[38;5;241m.\u001b[39mwaitKey(\u001b[38;5;241m0\u001b[39m)\n\u001b[0;32m      3\u001b[0m cv2\u001b[38;5;241m.\u001b[39mdestroyAllWindows()\n",
      "\u001b[1;31merror\u001b[0m: OpenCV(4.7.0) D:\\a\\opencv-python\\opencv-python\\opencv\\modules\\highgui\\src\\window.cpp:971: error: (-215:Assertion failed) size.width>0 && size.height>0 in function 'cv::imshow'\n"
     ]
    }
   ],
   "source": [
    "cv2.imshow(\"a\",a)\n",
    "cv2.waitKey(0)\n",
    "cv2.destroyAllWindows()"
   ]
  },
  {
   "cell_type": "code",
   "execution_count": 14,
   "id": "4255d4a8",
   "metadata": {},
   "outputs": [],
   "source": [
    "a"
   ]
  },
  {
   "cell_type": "code",
   "execution_count": null,
   "id": "cf4b6deb",
   "metadata": {},
   "outputs": [],
   "source": [
    "type(a)"
   ]
  },
  {
   "cell_type": "code",
   "execution_count": null,
   "id": "6d5a67a5",
   "metadata": {},
   "outputs": [],
   "source": [
    "a.shape"
   ]
  },
  {
   "cell_type": "markdown",
   "id": "a0fc8fd1",
   "metadata": {},
   "source": [
    "**Displaying image using matplotlib**"
   ]
  },
  {
   "cell_type": "code",
   "execution_count": 18,
   "id": "932abf23",
   "metadata": {},
   "outputs": [],
   "source": [
    "import matplotlib.pyplot as plt"
   ]
  },
  {
   "cell_type": "code",
   "execution_count": 19,
   "id": "77d919fb",
   "metadata": {},
   "outputs": [
    {
     "ename": "TypeError",
     "evalue": "'NoneType' object is not subscriptable",
     "output_type": "error",
     "traceback": [
      "\u001b[1;31m---------------------------------------------------------------------------\u001b[0m",
      "\u001b[1;31mTypeError\u001b[0m                                 Traceback (most recent call last)",
      "Cell \u001b[1;32mIn[19], line 1\u001b[0m\n\u001b[1;32m----> 1\u001b[0m plt\u001b[38;5;241m.\u001b[39mimshow(\u001b[43ma\u001b[49m\u001b[43m[\u001b[49m\u001b[43m:\u001b[49m\u001b[43m,\u001b[49m\u001b[43m:\u001b[49m\u001b[43m,\u001b[49m\u001b[43m:\u001b[49m\u001b[43m:\u001b[49m\u001b[38;5;241;43m-\u001b[39;49m\u001b[38;5;241;43m1\u001b[39;49m\u001b[43m]\u001b[49m)\n",
      "\u001b[1;31mTypeError\u001b[0m: 'NoneType' object is not subscriptable"
     ]
    }
   ],
   "source": [
    "plt.imshow(a[:,:,::-1])"
   ]
  },
  {
   "cell_type": "markdown",
   "id": "9ae0c119",
   "metadata": {},
   "source": [
    "**RGB Representation**"
   ]
  },
  {
   "cell_type": "code",
   "execution_count": null,
   "id": "25f24d4e",
   "metadata": {},
   "outputs": [],
   "source": [
    "img = cv2.imread(r\"data\\rubik.png\")\n",
    "plt.imshow(img[:,:,::-1])"
   ]
  },
  {
   "cell_type": "code",
   "execution_count": null,
   "id": "524d827c",
   "metadata": {},
   "outputs": [],
   "source": [
    "blue_img = np.zeros(img.shape)\n",
    "blue_img[:,:,0] = img[:,:,0]\n",
    "f, ax = plt.subplots(2,figsize=(10, 10))\n",
    "ax[0].imshow(blue_img[:,:,::-1])\n",
    "ax[1].imshow(img[:,:,::-1])"
   ]
  },
  {
   "cell_type": "code",
   "execution_count": null,
   "id": "ab6d36ce",
   "metadata": {},
   "outputs": [],
   "source": [
    "green_img = np.zeros(img.shape)\n",
    "green_img[:,:,1] = img[:,:,1]\n",
    "f, ax = plt.subplots(2,figsize=(10, 10))\n",
    "ax[0].imshow(green_img[:,:,::-1])\n",
    "ax[1].imshow(img[:,:,::-1])"
   ]
  },
  {
   "cell_type": "code",
   "execution_count": null,
   "id": "09eeb8f5",
   "metadata": {},
   "outputs": [],
   "source": [
    "red_img = np.zeros(img.shape)\n",
    "red_img[:,:,2] = img[:,:,2]\n",
    "f, ax = plt.subplots(2,figsize=(10, 10))\n",
    "ax[0].imshow(red_img[:,:,::-1])\n",
    "ax[1].imshow(img[:,:,::-1])"
   ]
  },
  {
   "cell_type": "markdown",
   "id": "f32385ac",
   "metadata": {},
   "source": [
    "**HSV color space**"
   ]
  },
  {
   "cell_type": "code",
   "execution_count": null,
   "id": "6f71ab95",
   "metadata": {},
   "outputs": [],
   "source": [
    "hsv = cv2.cvtColor(img, cv2.COLOR_BGR2HSV)\n",
    "f, ax = plt.subplots(2,2,figsize=(10, 10))\n",
    "ax[0,0].imshow(img[:,:,::-1])\n",
    "h, s, v = cv2.split(hsv)\n",
    "ax[0,1].imshow(h,cmap='gray')\n",
    "ax[1,0].imshow(s,cmap='gray')\n",
    "ax[1,1].imshow(v,cmap='gray')\n",
    "ax[0, 0].set_title(\"Original\")\n",
    "ax[0, 1].set_title(\"Hue\")\n",
    "ax[1, 0].set_title(\"Saturation\")\n",
    "ax[1, 1].set_title(\"Value\")"
   ]
  },
  {
   "cell_type": "markdown",
   "id": "96aba102",
   "metadata": {},
   "source": [
    "**Convert RGB --> Grayscale**"
   ]
  },
  {
   "cell_type": "code",
   "execution_count": null,
   "id": "5325bfa8",
   "metadata": {},
   "outputs": [],
   "source": [
    "img=cv2.imread('data/butterfly.jpg')\n",
    "plt.imshow(img[:,:,::-1])"
   ]
  },
  {
   "cell_type": "code",
   "execution_count": null,
   "id": "2afeb87e",
   "metadata": {},
   "outputs": [],
   "source": [
    "grayImg = cv2.cvtColor(img, cv2.COLOR_BGR2GRAY)\n",
    "plt.imshow(grayImg, cmap='gray')"
   ]
  },
  {
   "cell_type": "code",
   "execution_count": null,
   "id": "487be842",
   "metadata": {},
   "outputs": [],
   "source": [
    "rgb = cv2.cvtColor(grayImg,cv2.COLOR_GRAY2RGB)\n",
    "cv2.imshow(\"RGB\", rgb)\n",
    "cv2.waitKey(0)\n",
    "cv2.destroyAllWindows()"
   ]
  },
  {
   "cell_type": "markdown",
   "id": "632cdded",
   "metadata": {},
   "source": [
    "**Brightening and Darkening**"
   ]
  },
  {
   "cell_type": "code",
   "execution_count": null,
   "id": "7040ebed",
   "metadata": {},
   "outputs": [],
   "source": [
    "img = cv2.imread('data/robin.jpeg')\n",
    "plt.imshow(img[:,:,::-1])"
   ]
  },
  {
   "cell_type": "code",
   "execution_count": null,
   "id": "28e4b026",
   "metadata": {},
   "outputs": [],
   "source": [
    "illum = np.ones(img.shape, dtype=\"uint8\") * 75\n",
    "brightenedImg=cv2.add(img,illum)\n",
    "plt.imshow(brightenedImg[:,:,::-1])"
   ]
  },
  {
   "cell_type": "code",
   "execution_count": null,
   "id": "e123f3d9",
   "metadata": {},
   "outputs": [],
   "source": [
    "darkenedImg=cv2.subtract(img, illum)\n",
    "plt.imshow(darkenedImg[:,:,::-1])"
   ]
  },
  {
   "cell_type": "markdown",
   "id": "d22e45d8",
   "metadata": {},
   "source": [
    "**Translation**"
   ]
  },
  {
   "cell_type": "code",
   "execution_count": null,
   "id": "7af2a0b0",
   "metadata": {},
   "outputs": [],
   "source": [
    "img = cv2.imread('data/gull.jpg') \n",
    "height,width = img.shape[:2]\n",
    "print(img.shape[:2])\n",
    "plt.imshow(img[:,:,::-1])"
   ]
  },
  {
   "cell_type": "code",
   "execution_count": null,
   "id": "2420d3b6",
   "metadata": {},
   "outputs": [],
   "source": [
    "newHeight, newWidth = height/4, width/4\n",
    "translationMatrix = np.float32([[1,0,newWidth],[0,1,newHeight]])\n",
    "translatedImg=cv2.warpAffine(img,translationMatrix,(width,height))\n",
    "print(translationMatrix)\n",
    "plt.imshow(translatedImg[:,:,::-1])"
   ]
  },
  {
   "cell_type": "markdown",
   "id": "744cc91f",
   "metadata": {},
   "source": [
    "**Rotation**"
   ]
  },
  {
   "cell_type": "code",
   "execution_count": 21,
   "id": "4eaf23d3",
   "metadata": {},
   "outputs": [
    {
     "ename": "NameError",
     "evalue": "name 'width' is not defined",
     "output_type": "error",
     "traceback": [
      "\u001b[1;31m---------------------------------------------------------------------------\u001b[0m",
      "\u001b[1;31mNameError\u001b[0m                                 Traceback (most recent call last)",
      "Cell \u001b[1;32mIn[21], line 1\u001b[0m\n\u001b[1;32m----> 1\u001b[0m rotationMatrix\u001b[38;5;241m=\u001b[39mcv2\u001b[38;5;241m.\u001b[39mgetRotationMatrix2D((\u001b[43mwidth\u001b[49m\u001b[38;5;241m/\u001b[39m\u001b[38;5;241m2\u001b[39m, height\u001b[38;5;241m/\u001b[39m\u001b[38;5;241m2\u001b[39m),\u001b[38;5;241m180\u001b[39m,\u001b[38;5;241m1\u001b[39m)\n\u001b[0;32m      2\u001b[0m rotatedImg\u001b[38;5;241m=\u001b[39mcv2\u001b[38;5;241m.\u001b[39mwarpAffine(img,rotationMatrix,(width,height))\n\u001b[0;32m      3\u001b[0m \u001b[38;5;28mprint\u001b[39m(rotationMatrix)\n",
      "\u001b[1;31mNameError\u001b[0m: name 'width' is not defined"
     ]
    }
   ],
   "source": [
    "rotationMatrix=cv2.getRotationMatrix2D((width/2, height/2),180,1)\n",
    "rotatedImg=cv2.warpAffine(img,rotationMatrix,(width,height))\n",
    "print(rotationMatrix)\n",
    "plt.imshow(rotatedImg[:,:,::-1])"
   ]
  },
  {
   "cell_type": "markdown",
   "id": "8fb5b788",
   "metadata": {},
   "source": [
    "**Interpolation**"
   ]
  },
  {
   "cell_type": "code",
   "execution_count": null,
   "id": "868f5339",
   "metadata": {},
   "outputs": [],
   "source": [
    "plt.imshow(img[:,:,::-1])\n",
    "print(img.shape)"
   ]
  },
  {
   "cell_type": "code",
   "execution_count": null,
   "id": "07f7c674",
   "metadata": {},
   "outputs": [],
   "source": [
    "downScaledImg = cv2.resize(img,None,fx = 0.75,fy = 0.75)\n",
    "plt.imshow(downScaledImg[:,:,::-1])\n",
    "print(downScaledImg.shape)"
   ]
  },
  {
   "cell_type": "code",
   "execution_count": null,
   "id": "d40cb4b6",
   "metadata": {},
   "outputs": [],
   "source": [
    "upScaledImg = cv2.resize(img,None,fx = 2,fy = 2,interpolation = cv2.INTER_CUBIC)\n",
    "plt.imshow(upScaledImg[:,:,::-1])\n",
    "print(upScaledImg.shape)"
   ]
  },
  {
   "cell_type": "code",
   "execution_count": null,
   "id": "5a1608cc",
   "metadata": {},
   "outputs": [],
   "source": [
    "resizedImg = cv2.resize(img,(200,300),interpolation = cv2.INTER_AREA)\n",
    "plt.imshow(resizedImg[:,:,::-1])\n",
    "print(resizedImg.shape)"
   ]
  },
  {
   "cell_type": "markdown",
   "id": "aea75bad",
   "metadata": {},
   "source": [
    "**Cropping**"
   ]
  },
  {
   "cell_type": "code",
   "execution_count": null,
   "id": "b816ed08",
   "metadata": {},
   "outputs": [],
   "source": [
    "croppedImg = img[200:600, 1200:1500]\n",
    "plt.imshow(croppedImg[:,:,::-1])\n",
    "print(croppedImg.shape)"
   ]
  },
  {
   "cell_type": "markdown",
   "id": "32791272",
   "metadata": {},
   "source": [
    "**Perspective Transform**"
   ]
  },
  {
   "cell_type": "code",
   "execution_count": null,
   "id": "fa71dfde",
   "metadata": {},
   "outputs": [],
   "source": [
    "img = cv2.imread('data/thresh.png')\n",
    "rows,cols,ch = img.shape\n",
    "print(rows, cols, ch)\n",
    "plt.imshow(img[:,:,::-1])"
   ]
  },
  {
   "cell_type": "code",
   "execution_count": null,
   "id": "05f5aa51",
   "metadata": {},
   "outputs": [],
   "source": [
    "source = np.float32([[50,55],[356,45],[25,352],[376,355]])\n",
    "destination = np.float32([[0,0],[300,0],[0,300],[300,300]])\n",
    "transformMatrix = cv2.getPerspectiveTransform(source, destination)\n",
    "transformedImg = cv2.warpPerspective(img,transformMatrix,(300,300))\n",
    "plt.imshow(transformedImg[:,:,::-1])"
   ]
  },
  {
   "cell_type": "code",
   "execution_count": null,
   "id": "4983b331",
   "metadata": {},
   "outputs": [],
   "source": []
  }
 ],
 "metadata": {
  "kernelspec": {
   "display_name": "Python 3 (ipykernel)",
   "language": "python",
   "name": "python3"
  },
  "language_info": {
   "codemirror_mode": {
    "name": "ipython",
    "version": 3
   },
   "file_extension": ".py",
   "mimetype": "text/x-python",
   "name": "python",
   "nbconvert_exporter": "python",
   "pygments_lexer": "ipython3",
   "version": "3.10.9"
  }
 },
 "nbformat": 4,
 "nbformat_minor": 5
}
